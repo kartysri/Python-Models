{
 "cells": [
  {
   "cell_type": "code",
   "execution_count": null,
   "metadata": {},
   "outputs": [
    {
     "name": "stdin",
     "output_type": "stream",
     "text": [
      "Enter a command(options: new,get,save):  get\n",
      "Enter name of the person karthik\n"
     ]
    },
    {
     "name": "stdout",
     "output_type": "stream",
     "text": [
      "person not found in address book\n"
     ]
    },
    {
     "name": "stdin",
     "output_type": "stream",
     "text": [
      "Enter a command(options: new,get,save):  get\n",
      "Enter name of the person karthik\n"
     ]
    },
    {
     "name": "stdout",
     "output_type": "stream",
     "text": [
      "person not found in address book\n"
     ]
    },
    {
     "name": "stdin",
     "output_type": "stream",
     "text": [
      "Enter a command(options: new,get,save):  save\n",
      "Enter a command(options: new,get,save):  new\n",
      "Enter name of the person karthik\n",
      "Phone number:  9940117291\n",
      "Address:  no12\n",
      "Enter a command(options: new,get,save):  get\n",
      "Enter name of the person karthik\n"
     ]
    },
    {
     "name": "stdout",
     "output_type": "stream",
     "text": [
      "{'phone': '9940117291', 'address': 'no12'}\n"
     ]
    },
    {
     "name": "stdin",
     "output_type": "stream",
     "text": [
      "Enter a command(options: new,get,save):  save\n"
     ]
    }
   ],
   "source": [
    "import json\n",
    "\n",
    "f = open(\"C:\\\\Users\\\\542263\\\\OneDrive - Cognizant\\\\Desktop\\\\book.txt\",\"w+\")\n",
    "\n",
    "phone_book = {}\n",
    "\n",
    "command = \"\"\n",
    "\n",
    "while command != 'exit':\n",
    "\n",
    "    command = input('Enter a command(options: new,get,save): ')\n",
    "\n",
    "    if command == \"new\":\n",
    "\n",
    "        name = input('Enter name of the person')\n",
    "\n",
    "        p = input('Phone number: ')\n",
    "\n",
    "        a = input('Address: ')\n",
    "\n",
    "        phone_book[name] = {'phone': p, 'address': a}\n",
    "\n",
    "    elif command == 'get':\n",
    "\n",
    "        name = input('Enter name of the person')\n",
    "\n",
    "        if name in phone_book:\n",
    "\n",
    "            print(phone_book[name])\n",
    "\n",
    "        else:\n",
    "\n",
    "            print('person not found in address book')\n",
    "\n",
    "    elif command == 'save':\n",
    "\n",
    "        f.write(json.dumps(phone_book))"
   ]
  },
  {
   "cell_type": "code",
   "execution_count": null,
   "metadata": {},
   "outputs": [],
   "source": []
  }
 ],
 "metadata": {
  "kernelspec": {
   "display_name": "Python",
   "language": "python",
   "name": "conda-env-python-py"
  },
  "language_info": {
   "codemirror_mode": {
    "name": "ipython",
    "version": 3
   },
   "file_extension": ".py",
   "mimetype": "text/x-python",
   "name": "python",
   "nbconvert_exporter": "python",
   "pygments_lexer": "ipython3",
   "version": "3.6.11"
  }
 },
 "nbformat": 4,
 "nbformat_minor": 4
}
