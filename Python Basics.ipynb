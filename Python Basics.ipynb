{
 "cells": [
  {
   "cell_type": "code",
   "execution_count": 5,
   "metadata": {},
   "outputs": [
    {
     "name": "stdout",
     "output_type": "stream",
     "text": [
      "2\n",
      "2\n",
      "3\n",
      "{'I': 1, 'work': 3, 'in': 1, 'bloomberg': 2, 'founded': 1, 'by': 1}\n"
     ]
    }
   ],
   "source": [
    "s = \"I work in bloomberg founded by bloomberg work work\"\n",
    "\n",
    "tokens = s.split(\" \")\n",
    "d = {}\n",
    "for token in tokens:\n",
    "    if token in d:\n",
    "        d[token] += 1\n",
    "        print(d[token])\n",
    "    else:\n",
    "        d[token] = 1\n",
    "\n",
    "print(d)"
   ]
  },
  {
   "cell_type": "code",
   "execution_count": 1,
   "metadata": {},
   "outputs": [
    {
     "name": "stdin",
     "output_type": "stream",
     "text": [
      "enter first number:  24\n",
      "enter second number:  26\n"
     ]
    },
    {
     "name": "stdout",
     "output_type": "stream",
     "text": [
      "sum is:  2426\n"
     ]
    }
   ],
   "source": [
    "def sum(a,b):\n",
    "    return a+b\n",
    "\n",
    "n1=int(input('enter first number: '))\n",
    "n2=int(input('enter second number: '))\n",
    "print('sum is: ',sum(n1,n2))\n"
   ]
  },
  {
   "cell_type": "code",
   "execution_count": null,
   "metadata": {},
   "outputs": [],
   "source": [
    "def city_checker():\n",
    "    '''if chapter exercise (a)'''\n",
    "\n",
    "    usa = [\"atlanta\", \"new york\", \"chicago\", \"baltimore\"]\n",
    "    uk = [\"london\", \"bristol\", \"cambridge\"]\n",
    "    india = [\"mumbai\", \"delhi\", \"banglore\"]\n",
    "\n",
    "    city = input(\"Enter city name: \")\n",
    "\n",
    "    if city in usa:\n",
    "        print(city,\"is in usa\")\n",
    "    elif city in uk:\n",
    "        print(city,\"is in uk\")\n",
    "    elif city in india:\n",
    "        print(city,\"is in india\")\n",
    "    else:\n",
    "        print(\"I won't be able to tell you which country\",city,\"is in! Sorry!\")"
   ]
  },
  {
   "cell_type": "code",
   "execution_count": 1,
   "metadata": {},
   "outputs": [
    {
     "name": "stdout",
     "output_type": "stream",
     "text": [
      "Area of triangle is: 25.0\n"
     ]
    }
   ],
   "source": [
    "def print_pattern(n=5):\n",
    "\n",
    "    '''\n",
    "\n",
    "    :param n: Integer number representing number of lines\n",
    "\n",
    "    to be printed in a pattern. If n=3 it will print,\n",
    "\n",
    "      *\n",
    "\n",
    "      **\n",
    "\n",
    "      ***\n",
    "\n",
    "    If n=4, it will print,\n",
    "\n",
    "      *\n",
    "\n",
    "      **\n",
    "\n",
    "      ***\n",
    "\n",
    "      ****\n",
    "\n",
    "    Default value for n is 5. So if function caller doesn't\n",
    "\n",
    "    supply the input number then it will assume it to be 5\n",
    "\n",
    "    :return: None\n",
    "\n",
    "    '''\n",
    "\n",
    "    # we need to run two for loops. Outer loop prints patterns line by line\n",
    "\n",
    "    # where as inner loop print the content of that specific lines\n",
    "\n",
    "    for i in range(n):\n",
    "\n",
    "        s = ''\n",
    "\n",
    "        for j in range(i+1):\n",
    "\n",
    "            s = s + '*'\n",
    "\n",
    "        print(s)\n",
    "\n",
    "\n",
    "\n",
    "def calculate_area(dimension1,dimension2,shape=\"triangle\"):\n",
    "\n",
    "    \n",
    "\n",
    "    if shape==\"triangle\":\n",
    "\n",
    "        area=1/2*(dimension1*dimension2) # Triangle area is : 1/2(Base*Height)\n",
    "\n",
    "    elif shape==\"rectangle\":\n",
    "\n",
    "        area=dimension1*dimension2 # Rectangle area is: Length*Width\n",
    "\n",
    "    else:\n",
    "\n",
    "        print(\"***Error: Input shape is neither triangle nor rectangle.\")\n",
    "\n",
    "        area=None # If user didn't supply \"triangle\" or \"rectangle\" as shape then return None\n",
    "\n",
    "    return area\n",
    "\n",
    "\n",
    "\n",
    "# ------------------ Shape area exercise ------------------------- #\n",
    "\n",
    "# Calculate area of triangle whose base is 10 and height is 5\n",
    "\n",
    "base=10\n",
    "\n",
    "height=5\n",
    "\n",
    "triangle_area=calculate_area(base,height,\"triangle\")\n",
    "\n",
    "print(\"Area of triangle is:\",triangle_area)\n",
    "\n"
   ]
  },
  {
   "cell_type": "code",
   "execution_count": 2,
   "metadata": {},
   "outputs": [
    {
     "name": "stdout",
     "output_type": "stream",
     "text": [
      "Area of rectangle is: 600\n",
      "Area of triangle with no shape supplied:  25.0\n"
     ]
    }
   ],
   "source": [
    "# Calculate area of a rectangle whose length is 20 and width is 30\n",
    "\n",
    "length=20\n",
    "\n",
    "width=30\n",
    "\n",
    "rectangle_area=calculate_area(length,width,\"rectangle\")\n",
    "\n",
    "print(\"Area of rectangle is:\",rectangle_area)\n",
    "\n",
    "\n",
    "\n",
    "# Calculate area of a triangle without supplying shape argument in a function call\n",
    "\n",
    "triangle_area=calculate_area(base,height) # Here third argument is missing\n",
    "\n",
    "print(\"Area of triangle with no shape supplied: \",triangle_area)"
   ]
  },
  {
   "cell_type": "code",
   "execution_count": null,
   "metadata": {},
   "outputs": [],
   "source": [
    "print_pattern(3)"
   ]
  },
  {
   "cell_type": "code",
   "execution_count": null,
   "metadata": {},
   "outputs": [],
   "source": [
    "def result_1():\n",
    "    result = [\"heads\",\"tails\",\"tails\",\"heads\",\"tails\",\"heads\",\"heads\",\"tails\",\"tails\",\"tails\"]\n",
    "    count = 0\n",
    "    for item in result:\n",
    "        \n",
    "        if item == \"heads\":\n",
    "            count += 1\n",
    "print(\"Heads count: \",count)\n",
    "\n"
   ]
  },
  {
   "cell_type": "code",
   "execution_count": null,
   "metadata": {},
   "outputs": [],
   "source": []
  },
  {
   "cell_type": "code",
   "execution_count": null,
   "metadata": {},
   "outputs": [],
   "source": []
  }
 ],
 "metadata": {
  "kernelspec": {
   "display_name": "Python",
   "language": "python",
   "name": "conda-env-python-py"
  },
  "language_info": {
   "codemirror_mode": {
    "name": "ipython",
    "version": 3
   },
   "file_extension": ".py",
   "mimetype": "text/x-python",
   "name": "python",
   "nbconvert_exporter": "python",
   "pygments_lexer": "ipython3",
   "version": "3.6.11"
  }
 },
 "nbformat": 4,
 "nbformat_minor": 4
}
