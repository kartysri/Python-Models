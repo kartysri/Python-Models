{
 "cells": [
  {
   "cell_type": "code",
   "execution_count": 8,
   "metadata": {},
   "outputs": [
    {
     "name": "stdout",
     "output_type": "stream",
     "text": [
      "karty  works by  workfromhome\n"
     ]
    }
   ],
   "source": [
    "class human:\n",
    "    def __init__(self,n,o):\n",
    "        self.name = n\n",
    "        self.modeofwork = o\n",
    "    \n",
    "    def do_work(self):\n",
    "        if self.modeofwork == \"work from home\":\n",
    "            print(self.name ,\" works by \" ,  self.modeofwork)\n",
    "\n",
    "karthik = human(\"karty\",\"workfromhome\")\n",
    "karthik.do_work()"
   ]
  },
  {
   "cell_type": "code",
   "execution_count": 13,
   "metadata": {},
   "outputs": [
    {
     "name": "stdout",
     "output_type": "stream",
     "text": [
      "I'm car\n",
      "I'm motor cycle\n"
     ]
    }
   ],
   "source": [
    "class Vehicle:\n",
    "\n",
    "    def general_usage(self):\n",
    "\n",
    "        print(\"general use: transporation\")\n",
    "\n",
    "\n",
    "\n",
    "class Car(Vehicle):\n",
    "\n",
    "    def __init__(self):\n",
    "\n",
    "        print(\"I'm car\")\n",
    "\n",
    "        self.wheels = 4\n",
    "\n",
    "        self.has_roof = True\n",
    "\n",
    "\n",
    "\n",
    "    def specific_usage(self):\n",
    "\n",
    "        self.general_usage()\n",
    "\n",
    "        print(\"specific use: commute to work, vacation with family\")\n",
    "\n",
    "\n",
    "\n",
    "class MotorCycle(Vehicle):\n",
    "\n",
    "    def __init__(self):\n",
    "\n",
    "        print(\"I'm motor cycle\")\n",
    "\n",
    "        self.wheels = 2\n",
    "\n",
    "        self.has_roof = False\n",
    "\n",
    "\n",
    "\n",
    "    def specific_usage(self):\n",
    "\n",
    "        self.general_usage()\n",
    "\n",
    "        print(\"specific use: road trip, racing\")\n",
    "\n",
    "\n",
    "\n",
    "c = Car()\n",
    "\n",
    "m = MotorCycle()\n",
    "\n",
    "\n",
    "\n"
   ]
  },
  {
   "cell_type": "code",
   "execution_count": 1,
   "metadata": {},
   "outputs": [
    {
     "name": "stdout",
     "output_type": "stream",
     "text": [
      "gardening,programming\n",
      "cooking,art\n",
      "sports\n"
     ]
    }
   ],
   "source": [
    "class Father():\n",
    "\n",
    "   def skills(self):\n",
    "\n",
    "       print(\"gardening,programming\")\n",
    "\n",
    "\n",
    "\n",
    "class Mother():\n",
    "\n",
    "   def skills(self):\n",
    "\n",
    "       print(\"cooking,art\")\n",
    "\n",
    "\n",
    "\n",
    "class Child(Father,Mother):\n",
    "\n",
    "    def skills(self):\n",
    "\n",
    "        Father.skills(self)\n",
    "\n",
    "        Mother.skills(self)\n",
    "\n",
    "        print(\"sports\")\n",
    "\n",
    "\n",
    "\n",
    "c = Child()\n",
    "\n",
    "c.skills()"
   ]
  },
  {
   "cell_type": "code",
   "execution_count": 2,
   "metadata": {},
   "outputs": [
    {
     "name": "stdout",
     "output_type": "stream",
     "text": [
      "HBO\n",
      "cnn\n",
      "abc\n",
      "espn\n"
     ]
    },
    {
     "ename": "StopIteration",
     "evalue": "",
     "output_type": "error",
     "traceback": [
      "\u001b[0;31m---------------------------------------------------------------------------\u001b[0m",
      "\u001b[0;31mStopIteration\u001b[0m                             Traceback (most recent call last)",
      "\u001b[0;32m<ipython-input-2-e00c7eb3bc74>\u001b[0m in \u001b[0;36m<module>\u001b[0;34m\u001b[0m\n\u001b[1;32m     41\u001b[0m \u001b[0mprint\u001b[0m\u001b[0;34m(\u001b[0m\u001b[0mnext\u001b[0m\u001b[0;34m(\u001b[0m\u001b[0mitr\u001b[0m\u001b[0;34m)\u001b[0m\u001b[0;34m)\u001b[0m\u001b[0;34m\u001b[0m\u001b[0;34m\u001b[0m\u001b[0m\n\u001b[1;32m     42\u001b[0m \u001b[0;34m\u001b[0m\u001b[0m\n\u001b[0;32m---> 43\u001b[0;31m \u001b[0mprint\u001b[0m\u001b[0;34m(\u001b[0m\u001b[0mnext\u001b[0m\u001b[0;34m(\u001b[0m\u001b[0mitr\u001b[0m\u001b[0;34m)\u001b[0m\u001b[0;34m)\u001b[0m\u001b[0;34m\u001b[0m\u001b[0;34m\u001b[0m\u001b[0m\n\u001b[0m",
      "\u001b[0;32m<ipython-input-2-e00c7eb3bc74>\u001b[0m in \u001b[0;36m__next__\u001b[0;34m(self)\u001b[0m\n\u001b[1;32m     21\u001b[0m         \u001b[0;32mif\u001b[0m \u001b[0mself\u001b[0m\u001b[0;34m.\u001b[0m\u001b[0mindex\u001b[0m \u001b[0;34m==\u001b[0m \u001b[0mlen\u001b[0m\u001b[0;34m(\u001b[0m\u001b[0mself\u001b[0m\u001b[0;34m.\u001b[0m\u001b[0mchannels\u001b[0m\u001b[0;34m)\u001b[0m\u001b[0;34m:\u001b[0m\u001b[0;34m\u001b[0m\u001b[0;34m\u001b[0m\u001b[0m\n\u001b[1;32m     22\u001b[0m \u001b[0;34m\u001b[0m\u001b[0m\n\u001b[0;32m---> 23\u001b[0;31m             \u001b[0;32mraise\u001b[0m \u001b[0mStopIteration\u001b[0m\u001b[0;34m\u001b[0m\u001b[0;34m\u001b[0m\u001b[0m\n\u001b[0m\u001b[1;32m     24\u001b[0m \u001b[0;34m\u001b[0m\u001b[0m\n\u001b[1;32m     25\u001b[0m \u001b[0;34m\u001b[0m\u001b[0m\n",
      "\u001b[0;31mStopIteration\u001b[0m: "
     ]
    }
   ],
   "source": [
    "class RemoteControl():\n",
    "\n",
    "    def __init__(self):\n",
    "\n",
    "        self.channels = [\"HBO\",\"cnn\",\"abc\",\"espn\"]\n",
    "\n",
    "        self.index = -1\n",
    "\n",
    "\n",
    "\n",
    "    def __iter__(self):\n",
    "\n",
    "        return self\n",
    "\n",
    "\n",
    "\n",
    "    def __next__(self):\n",
    "\n",
    "        self.index += 1\n",
    "\n",
    "        if self.index == len(self.channels):\n",
    "\n",
    "            raise StopIteration\n",
    "\n",
    "\n",
    "\n",
    "        return self.channels[self.index]\n",
    "\n",
    "\n",
    "\n",
    "r = RemoteControl()\n",
    "\n",
    "itr=iter(r)\n",
    "\n",
    "print(next(itr))\n",
    "\n",
    "print(next(itr))\n",
    "\n",
    "print(next(itr))\n",
    "\n",
    "print(next(itr))\n",
    "\n",
    "print(next(itr))"
   ]
  },
  {
   "cell_type": "code",
   "execution_count": null,
   "metadata": {},
   "outputs": [],
   "source": []
  }
 ],
 "metadata": {
  "kernelspec": {
   "display_name": "Python",
   "language": "python",
   "name": "conda-env-python-py"
  },
  "language_info": {
   "codemirror_mode": {
    "name": "ipython",
    "version": 3
   },
   "file_extension": ".py",
   "mimetype": "text/x-python",
   "name": "python",
   "nbconvert_exporter": "python",
   "pygments_lexer": "ipython3",
   "version": "3.6.11"
  }
 },
 "nbformat": 4,
 "nbformat_minor": 4
}
